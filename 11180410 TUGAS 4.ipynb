{
 "cells": [
  {
   "cell_type": "markdown",
   "metadata": {},
   "source": [
    "2.1 Method tanpa parameter"
   ]
  },
  {
   "cell_type": "code",
   "execution_count": null,
   "metadata": {},
   "outputs": [],
   "source": [
    "class Calculator3{\n",
    "    int x;\n",
    "    int y;\n",
    "    int hasil;\n",
    "\n",
    "  void doTambah(){\n",
    "     System.out.println(\"Operasi Tambah\");  \n",
    "     hasil = x + y;\n",
    "  }    \n",
    "\n",
    "}"
   ]
  },
  {
   "cell_type": "code",
   "execution_count": 3,
   "metadata": {},
   "outputs": [
    {
     "name": "stdout",
     "output_type": "stream",
     "text": [
      "Operasi Tambah\n",
      "Hasil 30\n"
     ]
    },
    {
     "data": {
      "text/plain": [
       "null"
      ]
     },
     "execution_count": 3,
     "metadata": {},
     "output_type": "execute_result"
    }
   ],
   "source": [
    "Calculator3 varobjCalculator = new Calculator3();\n",
    "varobjCalculator.x = 20;\n",
    "varobjCalculator.y = 10;\n",
    "varobjCalculator.doTambah();\n",
    "System.out.println(\"Hasil \"+ varobjCalculator.hasil);"
   ]
  },
  {
   "cell_type": "markdown",
   "metadata": {},
   "source": [
    "2.2 Method dengan parameter"
   ]
  },
  {
   "cell_type": "code",
   "execution_count": 4,
   "metadata": {},
   "outputs": [
    {
     "data": {
      "text/plain": [
       "com.twosigma.beaker.javash.bkr2f6d0332.Calculator4"
      ]
     },
     "execution_count": 4,
     "metadata": {},
     "output_type": "execute_result"
    }
   ],
   "source": [
    "class Calculator4{\n",
    "    int x;\n",
    "    int y;\n",
    "    int hasil;\n",
    "\n",
    "  void doTambah(){\n",
    "     System.out.println(\"Operasi Tambah\");  \n",
    "     hasil = x + y;\n",
    "  }   \n",
    "\n",
    "\n",
    "  void ProsedurHitung(char simbol){\n",
    "     if(simbol == '+'){\n",
    "\n",
    "        this.doTambah();\n",
    "\n",
    "     }      \n",
    "  }  \n",
    "\n",
    "}"
   ]
  },
  {
   "cell_type": "code",
   "execution_count": 5,
   "metadata": {},
   "outputs": [
    {
     "name": "stdout",
     "output_type": "stream",
     "text": [
      "Operasi Tambah\n",
      "Hasil 30\n"
     ]
    },
    {
     "data": {
      "text/plain": [
       "null"
      ]
     },
     "execution_count": 5,
     "metadata": {},
     "output_type": "execute_result"
    }
   ],
   "source": [
    "Calculator4 oCalculator = new Calculator4();\n",
    "oCalculator.x = 20;\n",
    "oCalculator.y = 10;\n",
    "oCalculator.ProsedurHitung('+');\n",
    "System.out.println(\"Hasil \"+oCalculator.hasil);"
   ]
  },
  {
   "cell_type": "markdown",
   "metadata": {},
   "source": [
    "2.1 Method dengan nilai baik"
   ]
  },
  {
   "cell_type": "code",
   "execution_count": 6,
   "metadata": {},
   "outputs": [
    {
     "data": {
      "text/plain": [
       "com.twosigma.beaker.javash.bkr2f6d0332.Calculator5"
      ]
     },
     "execution_count": 6,
     "metadata": {},
     "output_type": "execute_result"
    }
   ],
   "source": [
    "class Calculator5{\n",
    "    int x;\n",
    "    int y;\n",
    "    int hasil;\n",
    "\n",
    "  void doTambah(){\n",
    "     System.out.println(\"Operasi Tambah\");  \n",
    "     hasil = x + y;\n",
    "  }   \n",
    "\n",
    "  void prosedurHitung(char simbol){\n",
    "     if(simbol == '+'){\n",
    "\n",
    "        this.doTambah();\n",
    "\n",
    "     }      \n",
    "  }  \n",
    "\n",
    "  int fungsiHitung(char simbol){\n",
    "     if(simbol == '+'){\n",
    "\n",
    "        this.doTambah();\n",
    "\n",
    "     }\n",
    "     return hasil; \n",
    "  }    \n",
    "}"
   ]
  },
  {
   "cell_type": "code",
   "execution_count": 7,
   "metadata": {},
   "outputs": [
    {
     "name": "stdout",
     "output_type": "stream",
     "text": [
      "Operasi Tambah\n",
      "Hasil 30\n"
     ]
    },
    {
     "data": {
      "text/plain": [
       "null"
      ]
     },
     "execution_count": 7,
     "metadata": {},
     "output_type": "execute_result"
    }
   ],
   "source": [
    "Calculator5 oCalculator = new Calculator5();\n",
    "oCalculator.x = 20;\n",
    "oCalculator.y = 10;\n",
    "System.out.println(\"Hasil \"+oCalculator.fungsiHitung('+'));"
   ]
  },
  {
   "cell_type": "markdown",
   "metadata": {},
   "source": [
    "Komponen Konstrutor"
   ]
  },
  {
   "cell_type": "code",
   "execution_count": 1,
   "metadata": {},
   "outputs": [
    {
     "data": {
      "text/plain": [
       "com.twosigma.beaker.javash.bkr504d5142.Calculator6"
      ]
     },
     "execution_count": 1,
     "metadata": {},
     "output_type": "execute_result"
    }
   ],
   "source": [
    "//Program 5.11 Class Calculator6 dengan konstrukor\n",
    "\n",
    "class Calculator6{\n",
    "    int x;\n",
    "    int y;\n",
    "    int hasil;\n",
    "    \n",
    "  Calculator6(int varX, int varY){\n",
    "    x = varX;  \n",
    "    y = varY;  \n",
    "  }\n",
    "    \n",
    "  void doTambah(){\n",
    "     System.out.println(\"Operasi Tambah\");  \n",
    "     hasil = x + y;\n",
    "  }   \n",
    "\n",
    "  void prosedurHitung(char simbol){\n",
    "     if(simbol == '+'){\n",
    "         \n",
    "        this.doTambah();\n",
    "         \n",
    "     }      \n",
    "  }  \n",
    "   \n",
    "  int fungsiHitung(char simbol){\n",
    "     if(simbol == '+'){\n",
    "         \n",
    "        this.doTambah();\n",
    "         \n",
    "     }\n",
    "     return hasil; \n",
    "  }    \n",
    "}"
   ]
  },
  {
   "cell_type": "code",
   "execution_count": 3,
   "metadata": {},
   "outputs": [
    {
     "name": "stdout",
     "output_type": "stream",
     "text": [
      "Operasi Tambah\n",
      "Hasil 40\n"
     ]
    },
    {
     "data": {
      "text/plain": [
       "null"
      ]
     },
     "execution_count": 3,
     "metadata": {},
     "output_type": "execute_result"
    }
   ],
   "source": [
    "//Program 5.12 Implementasi Class Calculator6 dengan konstrukor\n",
    "Calculator6 oCalculator = new Calculator6(20,20);\n",
    "System.out.println(\"Hasil \"+oCalculator.fungsiHitung('+'));"
   ]
  },
  {
   "cell_type": "markdown",
   "metadata": {},
   "source": [
    " "
   ]
  },
  {
   "cell_type": "markdown",
   "metadata": {},
   "source": [
    "MID test 1"
   ]
  },
  {
   "cell_type": "markdown",
   "metadata": {},
   "source": [
    "Modifikasilah class Calculator5 sehingga memiliki kemampuan/prilaku untuk melakukan operasi aritmetika untuk\n",
    "\n",
    "    Pengurangan\n",
    "    Perkalian\n",
    "    Pembagian\n",
    "\n",
    "Dengan cara pemanggilan objek untuk masing - masing operasi tersebut adalah sebagai berikut:"
   ]
  },
  {
   "cell_type": "code",
   "execution_count": null,
   "metadata": {},
   "outputs": [],
   "source": [
    "//Operasi pengurangan\n",
    "System.out.println(\"Hasil \"+oCalculator.fungsiHitung('-'));\n",
    "//Operasi perkalian\n",
    "System.out.println(\"Hasil \"+oCalculator.fungsiHitung('x'));\n",
    "//Operasi pembagian\n",
    "System.out.println(\"Hasil \"+oCalculator.fungsiHitung(':'));"
   ]
  },
  {
   "cell_type": "markdown",
   "metadata": {},
   "source": [
    "Jawab :"
   ]
  },
  {
   "cell_type": "code",
   "execution_count": 16,
   "metadata": {},
   "outputs": [
    {
     "data": {
      "text/plain": [
       "com.twosigma.beaker.javash.bkrd9da7fec.Calculator5"
      ]
     },
     "execution_count": 16,
     "metadata": {},
     "output_type": "execute_result"
    }
   ],
   "source": [
    "class Calculator5{\n",
    "    int x;\n",
    "    int y;\n",
    "    int hasil;\n",
    "\n",
    "  void pengurangan(){\n",
    "     System.out.println(\"Operasi Pengurangan\");  \n",
    "     hasil = x - y;\n",
    "  }\n",
    "\n",
    "  void perkalian(){\n",
    "      System.out.println(\"Operasi Perkalian\");\n",
    "      hasil = x * y;\n",
    "  }\n",
    "    \n",
    "  void pembagian(){\n",
    "    System.out.println(\"Operasi pembagian\");\n",
    "    hasil = x / y;\n",
    "}\n",
    "    \n",
    "\n",
    "  int fungsiHitung(char simbol){\n",
    "     if(simbol == '-'){\n",
    "\n",
    "        this.pengurangan();\n",
    "\n",
    "    }else if(simbol == '*'){\n",
    "         \n",
    "         this.perkalian();\n",
    "             \n",
    "     }else{\n",
    "         \n",
    "         this.pembagian();\n",
    "     }\n",
    "    \n",
    "     return hasil; \n",
    "  }    \n",
    "}"
   ]
  },
  {
   "cell_type": "code",
   "execution_count": 18,
   "metadata": {},
   "outputs": [
    {
     "name": "stdout",
     "output_type": "stream",
     "text": [
      "Operasi Pengurangan\n",
      "Hasil 30\n",
      "Operasi Perkalian\n",
      "Hasil 1000\n",
      "Operasi pembagian\n",
      "Hasil 2\n"
     ]
    },
    {
     "data": {
      "text/plain": [
       "null"
      ]
     },
     "execution_count": 18,
     "metadata": {},
     "output_type": "execute_result"
    }
   ],
   "source": [
    "Calculator5 oCalculator = new Calculator5();\n",
    "oCalculator.x = 50;\n",
    "oCalculator.y = 20;\n",
    "System.out.println(\"Hasil \"+oCalculator.fungsiHitung('-'));\n",
    "System.out.println(\"Hasil \"+oCalculator.fungsiHitung('*'));\n",
    "System.out.println(\"Hasil \"+oCalculator.fungsiHitung('/'));"
   ]
  },
  {
   "cell_type": "code",
   "execution_count": null,
   "metadata": {},
   "outputs": [],
   "source": []
  }
 ],
 "metadata": {
  "kernelspec": {
   "display_name": "Java",
   "language": "java",
   "name": "java"
  },
  "language_info": {
   "codemirror_mode": "text/x-java",
   "file_extension": ".java",
   "mimetype": "",
   "name": "Java",
   "nbconverter_exporter": "",
   "version": "1.8.0_121"
  },
  "toc": {
   "base_numbering": 1,
   "nav_menu": {},
   "number_sections": false,
   "sideBar": false,
   "skip_h1_title": false,
   "title_cell": "Table of Contents",
   "title_sidebar": "Contents",
   "toc_cell": false,
   "toc_position": {},
   "toc_section_display": false,
   "toc_window_display": false
  }
 },
 "nbformat": 4,
 "nbformat_minor": 2
}
