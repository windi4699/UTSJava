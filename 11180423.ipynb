{
 "cells": [
  {
   "cell_type": "markdown",
   "metadata": {},
   "source": [
    "Tugas 8.2\n",
    "\n",
    "Lakukan eksesusi kode berikut dan amatilah hasilnya."
   ]
  },
  {
   "cell_type": "code",
   "execution_count": 5,
   "metadata": {},
   "outputs": [
    {
     "data": {
      "text/plain": [
       "com.twosigma.beaker.javash.bkrcf1d09b7.Mahasiswa"
      ]
     },
     "execution_count": 5,
     "metadata": {},
     "output_type": "execute_result"
    }
   ],
   "source": [
    "public class Mahasiswa {\n",
    "    String nama;\n",
    "    double IPK;\n",
    "    int semester;\n",
    "\n",
    "public String hitungYudisium() {\n",
    "    String yudisium;\n",
    "    if ( (semester<=8) && (IPK>3.5) ) {\n",
    "            yudisium = \"Cum Laude\";\n",
    "        } else {\n",
    "            yudisium = \"Memuaskan\";\n",
    "        }\n",
    "        return yudisium;\n",
    "    }\n",
    "}    "
   ]
  },
  {
   "cell_type": "code",
   "execution_count": 6,
   "metadata": {},
   "outputs": [
    {
     "data": {
      "text/plain": [
       "com.twosigma.beaker.javash.bkrcf1d09b7.MahasiswaS2"
      ]
     },
     "execution_count": 6,
     "metadata": {},
     "output_type": "execute_result"
    }
   ],
   "source": [
    "public class MahasiswaS2 extends Mahasiswa {\n",
    "\n",
    "public String hitungYudisium() {\n",
    "        String yudisium;\n",
    "        if ( (semester<=4) && (IPK>3.8) ) {\n",
    "            yudisium = \"Cum Laude\";\n",
    "        } else {\n",
    "            yudisium = \"Memuaskan\";\n",
    "        }\n",
    "        return yudisium;\n",
    "    }\n",
    "\n",
    "}"
   ]
  },
  {
   "cell_type": "code",
   "execution_count": 7,
   "metadata": {},
   "outputs": [
    {
     "name": "stdout",
     "output_type": "stream",
     "text": [
      "Cum Laude\n",
      "Memuaskan\n"
     ]
    },
    {
     "data": {
      "text/plain": [
       "null"
      ]
     },
     "execution_count": 7,
     "metadata": {},
     "output_type": "execute_result"
    }
   ],
   "source": [
    "Mahasiswa m = new Mahasiswa();\n",
    "        m.IPK=3.6;\n",
    "        m.semester=8;\n",
    "        System.out.println(m.hitungYudisium());\n",
    "\n",
    "        MahasiswaS2 mS2 = new MahasiswaS2();  \n",
    "        mS2.IPK=3.6;\n",
    "        mS2.semester=8;\n",
    "        System.out.println(mS2.hitungYudisium());\n",
    "\n"
   ]
  },
  {
   "cell_type": "raw",
   "metadata": {},
   "source": [
    "Tugas 8.3\n",
    "\n",
    "Buatlah class MahasiswaS3 yang merupakan turunan dari class Mahasiswa. Override method hitungYudisium dengan syarat IPK harus >= 3.6 dan semester <= 6. dengan implementassi sebagai berikut\n",
    "\n",
    "        MahasiswaS3 mS3 = new MahasiswaS3();  \n",
    "        mS3.IPK=3.9;\n",
    "        mS3.semester=8;\n",
    "        System.out.println(mS3.hitungYudisium());"
   ]
  },
  {
   "cell_type": "code",
   "execution_count": 2,
   "metadata": {},
   "outputs": [
    {
     "data": {
      "text/plain": [
       "com.twosigma.beaker.javash.bkr557ede3e.Mahasiswa"
      ]
     },
     "execution_count": 2,
     "metadata": {},
     "output_type": "execute_result"
    }
   ],
   "source": [
    "public class Mahasiswa {\n",
    "    String nama;\n",
    "    double IPK;\n",
    "    int semester;\n",
    "\n",
    "public String hitungYudisium() {\n",
    "    String yudisium;\n",
    "    if ( (semester<=8) && (IPK>3.5) ) {\n",
    "            yudisium = \"Cum Laude\";\n",
    "        } else {\n",
    "            yudisium = \"Memuaskan\";\n",
    "        }\n",
    "        return yudisium;\n",
    "    }\n",
    "}    "
   ]
  },
  {
   "cell_type": "code",
   "execution_count": 7,
   "metadata": {},
   "outputs": [
    {
     "data": {
      "text/plain": [
       "com.twosigma.beaker.javash.bkr557ede3e.MahasiswaS3"
      ]
     },
     "execution_count": 7,
     "metadata": {},
     "output_type": "execute_result"
    }
   ],
   "source": [
    "public class MahasiswaS3 extends Mahasiswa {\n",
    "\n",
    "public String hitungYudisium() {\n",
    "        String yudisium;\n",
    "        if ( (semester<=6) && (IPK>=3.6) ) {\n",
    "            yudisium = \"Cum Laude\";\n",
    "        } else {\n",
    "            yudisium = \"Memuaskan\";\n",
    "        }\n",
    "        return yudisium;\n",
    "    }\n",
    "\n",
    "}"
   ]
  },
  {
   "cell_type": "code",
   "execution_count": 8,
   "metadata": {},
   "outputs": [
    {
     "name": "stdout",
     "output_type": "stream",
     "text": [
      "Memuaskan\n"
     ]
    },
    {
     "data": {
      "text/plain": [
       "null"
      ]
     },
     "execution_count": 8,
     "metadata": {},
     "output_type": "execute_result"
    }
   ],
   "source": [
    "MahasiswaS3 mS3 = new MahasiswaS3();  \n",
    "        mS3.IPK=3.9;\n",
    "        mS3.semester=8;\n",
    "        System.out.println(mS3.hitungYudisium());"
   ]
  },
  {
   "cell_type": "markdown",
   "metadata": {},
   "source": [
    " "
   ]
  },
  {
   "cell_type": "markdown",
   "metadata": {},
   "source": [
    "Tugas 8.4\n",
    "\n",
    "Asumsikan kita telah mempunya class Mahasiswa dan class MahasiswaS3 dari kode sebelumnya. \n",
    "Ubah Tugas 8.3 lalu tambahkan code berikut untuk mengimplementasikan kode berikut:"
   ]
  },
  {
   "cell_type": "code",
   "execution_count": 23,
   "metadata": {},
   "outputs": [
    {
     "data": {
      "text/plain": [
       "com.twosigma.beaker.javash.bkr557ede3e.Mahasiswa"
      ]
     },
     "execution_count": 23,
     "metadata": {},
     "output_type": "execute_result"
    }
   ],
   "source": [
    "public class Mahasiswa {\n",
    "    String nama;\n",
    "    double IPK;\n",
    "    int semester;\n",
    "\n",
    "public String hitungYudisium() {\n",
    "    String yudisium;\n",
    "    if ( (semester<=8) && (IPK>3.5) ) {\n",
    "            yudisium = \"Cum Laude\";\n",
    "        } else {\n",
    "            yudisium = \"Memuaskan\";\n",
    "        }\n",
    "        return yudisium;\n",
    "    }\n",
    "}    "
   ]
  },
  {
   "cell_type": "code",
   "execution_count": 24,
   "metadata": {},
   "outputs": [
    {
     "data": {
      "text/plain": [
       "com.twosigma.beaker.javash.bkr557ede3e.MahasiswaS2"
      ]
     },
     "execution_count": 24,
     "metadata": {},
     "output_type": "execute_result"
    }
   ],
   "source": [
    "public class MahasiswaS2 extends Mahasiswa {\n",
    "\n",
    "public String hitungYudisium() {\n",
    "        String yudisium;\n",
    "        if ( (semester<=4) && (IPK>3.8) ) {\n",
    "            yudisium = \"Cum Laude\";\n",
    "        } else {\n",
    "            yudisium = \"Memuaskan\";\n",
    "        }\n",
    "        return yudisium;\n",
    "    }\n",
    "\n",
    "}"
   ]
  },
  {
   "cell_type": "code",
   "execution_count": 25,
   "metadata": {},
   "outputs": [
    {
     "data": {
      "text/plain": [
       "com.twosigma.beaker.javash.bkr557ede3e.MahasiswaS3"
      ]
     },
     "execution_count": 25,
     "metadata": {},
     "output_type": "execute_result"
    }
   ],
   "source": [
    "public class MahasiswaS3 extends Mahasiswa {\n",
    "\n",
    "public String hitungYudisium() {\n",
    "        String yudisium;\n",
    "        if ( (semester<=6) && (IPK>=3.6) ) {\n",
    "            yudisium = \"Cum Laude\";\n",
    "        } else {\n",
    "            yudisium = \"Memuaskan\";\n",
    "        }\n",
    "        return yudisium;\n",
    "    }\n",
    "\n",
    "}"
   ]
  },
  {
   "cell_type": "code",
   "execution_count": 26,
   "metadata": {},
   "outputs": [
    {
     "name": "stdout",
     "output_type": "stream",
     "text": [
      "Cum Laude\n",
      "Cum Laude\n"
     ]
    },
    {
     "data": {
      "text/plain": [
       "null"
      ]
     },
     "execution_count": 26,
     "metadata": {},
     "output_type": "execute_result"
    }
   ],
   "source": [
    "Mahasiswa m;\n",
    "        Mahasiswa mS1 = new Mahasiswa();\n",
    "        MahasiswaS3 mS3 = new MahasiswaS3();        \n",
    "\n",
    "        mS1.IPK=3.6;\n",
    "        mS1.semester=8;\n",
    "\n",
    "        mS3.IPK = 3.7;\n",
    "        mS3.semester=5;\n",
    "\n",
    "        m = mS1 ; //bisa        \n",
    "        System.out.println(m.hitungYudisium());\n",
    "        m = mS3 ; //bisa juga\n",
    "        m.hitungYudisium();         \n",
    "        System.out.println(m.hitungYudisium());\n",
    "\n",
    "        //array\n",
    "        Mahasiswa[] arrMhs = new Mahasiswa[2];\n",
    "        arrMhs[0] = mS1;\n",
    "        arrMhs[1] = mS3;"
   ]
  },
  {
   "cell_type": "code",
   "execution_count": 27,
   "metadata": {},
   "outputs": [
    {
     "data": {
      "text/plain": [
       "com.twosigma.beaker.javash.bkr557ede3e.ContohOverloading"
      ]
     },
     "execution_count": 27,
     "metadata": {},
     "output_type": "execute_result"
    }
   ],
   "source": [
    "public class ContohOverloading { \n",
    " public void jumlah (int a, int b){\n",
    " System.out.println(\"Jumlah 2 angka =\"+ (a + b));\n",
    " } \n",
    " //oveloading perbedaan jumlah parameter\n",
    " public void jumlah (int a, int b, int c){\n",
    " System.out.println(\"Jumlah 3 angka =\" + (a + b + c));\n",
    " } \n",
    " //overloading perbedaan tipe data parameter\n",
    " public void jumlah (double a, int b){\n",
    " System.out.println(\"Jumlah 2 angka (double+int) = \"+ (a + b));\n",
    " } \n",
    " //overloading perbedaan urutan tipe data parameter\n",
    " public void jumlah (int b, double a){\n",
    " System.out.println(\"Jumlah 2 angka (int+double) = \"+ (a + b));\n",
    " }\n",
    "}"
   ]
  },
  {
   "cell_type": "code",
   "execution_count": 28,
   "metadata": {},
   "outputs": [
    {
     "name": "stdout",
     "output_type": "stream",
     "text": [
      "Jumlah 2 angka =115\n",
      "Jumlah 3 angka =920\n",
      "Jumlah 2 angka (double+int) = 68.43\n",
      "Jumlah 2 angka (int+double) = 61.23\n"
     ]
    },
    {
     "data": {
      "text/plain": [
       "null"
      ]
     },
     "execution_count": 28,
     "metadata": {},
     "output_type": "execute_result"
    }
   ],
   "source": [
    "ContohOverloading co  = new ContohOverloading();        \n",
    "        co.jumlah(83,32);\n",
    "        co.jumlah(34,454,432);\n",
    "        co.jumlah(34.43,34);\n",
    "        co.jumlah(28,33.23);"
   ]
  },
  {
   "cell_type": "markdown",
   "metadata": {},
   "source": [
    "  "
   ]
  },
  {
   "cell_type": "markdown",
   "metadata": {},
   "source": [
    "Tugas 8.6\n",
    "\n",
    "Implementasikan Program 8.6 diatas kemudian lakukan eksesusi kode tersebut dan amatilah hasilnya."
   ]
  },
  {
   "cell_type": "code",
   "execution_count": 29,
   "metadata": {},
   "outputs": [
    {
     "data": {
      "text/plain": [
       "com.twosigma.beaker.javash.bkr557ede3e.Binatang"
      ]
     },
     "execution_count": 29,
     "metadata": {},
     "output_type": "execute_result"
    }
   ],
   "source": [
    "public class Binatang {\n",
    "    public void begerak(){\n",
    "        System.out.println(\"Binatang bergerak sesuai kemampuannya\");\n",
    "    }\n",
    "    public void berkembangBiak(){\n",
    "        System.out.println(\"Binatang berkembang biak sesuai kemampuannya\");\n",
    "    }\n",
    "\n",
    "}\n"
   ]
  },
  {
   "cell_type": "code",
   "execution_count": 30,
   "metadata": {},
   "outputs": [
    {
     "data": {
      "text/plain": [
       "com.twosigma.beaker.javash.bkr557ede3e.Mamalia"
      ]
     },
     "execution_count": 30,
     "metadata": {},
     "output_type": "execute_result"
    }
   ],
   "source": [
    "public class Mamalia extends Binatang {\n",
    "    //overriding method parent class\n",
    "    public void begerak(){\n",
    "        System.out.println(\"Mamalia bergerak sebagian besar dengan kakinya\");\n",
    "    }    \n",
    "    public void berlari(){\n",
    "        System.out.println(\"Sebagian Mamalia dapat berlari\");\n",
    "    }\n",
    "}"
   ]
  },
  {
   "cell_type": "code",
   "execution_count": 31,
   "metadata": {},
   "outputs": [
    {
     "name": "stdout",
     "output_type": "stream",
     "text": [
      "Binatang bergerak sesuai kemampuannya\n",
      "Mamalia bergerak sebagian besar dengan kakinya\n",
      "Mamalia bergerak sebagian besar dengan kakinya\n",
      "Binatang berkembang biak sesuai kemampuannya\n"
     ]
    },
    {
     "data": {
      "text/plain": [
       "null"
      ]
     },
     "execution_count": 31,
     "metadata": {},
     "output_type": "execute_result"
    }
   ],
   "source": [
    "Binatang b = new Binatang();\n",
    "        Mamalia m = new Mamalia();\n",
    "        Binatang bm = new Mamalia();\n",
    "\n",
    "        b.begerak();\n",
    "        m.begerak();\n",
    "        bm.begerak();\n",
    "        bm.berkembangBiak();"
   ]
  },
  {
   "cell_type": "markdown",
   "metadata": {},
   "source": [
    " "
   ]
  },
  {
   "cell_type": "markdown",
   "metadata": {},
   "source": [
    "Tugas 8.7\n",
    "\n",
    "Implementasikan Program 8.7 diatas kemudian lakukan eksesusi kode tersebut dan amatilah hasilnya"
   ]
  },
  {
   "cell_type": "code",
   "execution_count": 32,
   "metadata": {},
   "outputs": [
    {
     "data": {
      "text/plain": [
       "com.twosigma.beaker.javash.bkr557ede3e.CetakLaporan"
      ]
     },
     "execution_count": 32,
     "metadata": {},
     "output_type": "execute_result"
    }
   ],
   "source": [
    "public interface CetakLaporan {\n",
    "    public void cetakA4();\n",
    "    public void cetakA3();\n",
    "}"
   ]
  },
  {
   "cell_type": "code",
   "execution_count": 33,
   "metadata": {},
   "outputs": [
    {
     "data": {
      "text/plain": [
       "com.twosigma.beaker.javash.bkr557ede3e.LaporanPenjualan"
      ]
     },
     "execution_count": 33,
     "metadata": {},
     "output_type": "execute_result"
    }
   ],
   "source": [
    "public class LaporanPenjualan implements CetakLaporan{\n",
    "    public void cetakA4(){\n",
    "        System.out.println(\"Cetak Laporan di A4\");\n",
    "    }\n",
    "    public void cetakA3(){\n",
    "        System.out.println(\"Cetak Laporan di A3\");\n",
    "    }\n",
    "}"
   ]
  },
  {
   "cell_type": "code",
   "execution_count": 34,
   "metadata": {},
   "outputs": [
    {
     "name": "stdout",
     "output_type": "stream",
     "text": [
      "Cetak Laporan di A3\n",
      "Cetak Laporan di A4\n"
     ]
    },
    {
     "data": {
      "text/plain": [
       "null"
      ]
     },
     "execution_count": 34,
     "metadata": {},
     "output_type": "execute_result"
    }
   ],
   "source": [
    "LaporanPenjualan lt = new LaporanPenjualan();\n",
    "        lt.cetakA3();\n",
    "        lt.cetakA4();"
   ]
  },
  {
   "cell_type": "code",
   "execution_count": 35,
   "metadata": {},
   "outputs": [
    {
     "data": {
      "text/plain": [
       "com.twosigma.beaker.javash.bkr557ede3e.TampilLaporan"
      ]
     },
     "execution_count": 35,
     "metadata": {},
     "output_type": "execute_result"
    }
   ],
   "source": [
    "public interface TampilLaporan {\n",
    "    public void tampilWeb();\n",
    "    public void tampilMobile();\n",
    "}\n"
   ]
  },
  {
   "cell_type": "code",
   "execution_count": 37,
   "metadata": {},
   "outputs": [
    {
     "data": {
      "text/plain": [
       "com.twosigma.beaker.javash.bkr557ede3e.LaporanPembelian"
      ]
     },
     "execution_count": 37,
     "metadata": {},
     "output_type": "execute_result"
    }
   ],
   "source": [
    "public class LaporanPembelian implements CetakLaporan, TampilLaporan{\n",
    "    public void cetakA4(){\n",
    "        System.out.println(\"Cetak Laporan di A4\");\n",
    "    }\n",
    "    public void cetakA3(){\n",
    "        System.out.println(\"Cetak Laporan di A3\");\n",
    "    }\n",
    "    public void tampilWeb(){\n",
    "        System.out.println(\"Tampil di Monitor\");\n",
    "    }\n",
    "    public void tampilMobile(){\n",
    "        System.out.println(\"Tampil di Handphone\");\n",
    "    }\n",
    "}"
   ]
  },
  {
   "cell_type": "code",
   "execution_count": 38,
   "metadata": {},
   "outputs": [
    {
     "name": "stdout",
     "output_type": "stream",
     "text": [
      "Cetak Laporan di A3\n",
      "Cetak Laporan di A4\n",
      "Tampil di Handphone\n",
      "Tampil di Monitor\n"
     ]
    },
    {
     "data": {
      "text/plain": [
       "null"
      ]
     },
     "execution_count": 38,
     "metadata": {},
     "output_type": "execute_result"
    }
   ],
   "source": [
    "LaporanPembelian lp = new LaporanPembelian();\n",
    "        lp.cetakA3();\n",
    "        lp.cetakA4();\n",
    "        lp.tampilMobile();\n",
    "        lp.tampilWeb();"
   ]
  },
  {
   "cell_type": "code",
   "execution_count": null,
   "metadata": {},
   "outputs": [],
   "source": []
  }
 ],
 "metadata": {
  "kernelspec": {
   "display_name": "Java",
   "language": "java",
   "name": "java"
  },
  "language_info": {
   "codemirror_mode": "text/x-java",
   "file_extension": ".java",
   "mimetype": "",
   "name": "Java",
   "nbconverter_exporter": "",
   "version": "1.8.0_121"
  },
  "toc": {
   "base_numbering": 1,
   "nav_menu": {},
   "number_sections": false,
   "sideBar": false,
   "skip_h1_title": false,
   "title_cell": "Table of Contents",
   "title_sidebar": "Contents",
   "toc_cell": false,
   "toc_position": {},
   "toc_section_display": false,
   "toc_window_display": false
  }
 },
 "nbformat": 4,
 "nbformat_minor": 2
}
