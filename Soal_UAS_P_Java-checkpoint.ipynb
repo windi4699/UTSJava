{
 "cells": [
  {
   "cell_type": "markdown",
   "metadata": {},
   "source": [
    "### SOAL UAS\n",
    "1. Jawablah soal - soal dibawah ini pada baris yang sudah disediakan.\n",
    "2. Jawaban diunggah pada folder github masing - masing mahasiswa dijadikan satu dengan tugas - tugas sesudah UTS \n",
    "3. Dikumpulkan paling lambat 7 Juli 2020 Jam 24.00\n"
   ]
  },
  {
   "cell_type": "code",
   "execution_count": null,
   "metadata": {},
   "outputs": [],
   "source": [
    "Berikut ini adalah contoh pengkodean lambda : \n",
    "(Jika ada kekeliruan dalam syntax silahkan dibetulkan)"
   ]
  },
  {
   "cell_type": "markdown",
   "metadata": {},
   "source": [
    "``` javascript\n",
    "\n",
    "publik clas ContohLambda{\n",
    "\n",
    "    public static void main(){\n",
    "      ContohLambda obj = new ContohLambda();\n",
    "  \n",
    "      //dengan type declaration tanpa kurung kurawal\n",
    "      OperasiPerhitungan penjumlahan = (int a, int b) -> a + b;\n",
    "        \n",
    "       //dengan return statement dan dengan kurung kurawal\n",
    "      OperasiPerhitungan penjumlahan2 = (int a, int b) -> { return a + b; };\n",
    "  \n",
    "   \n",
    "  \n",
    "      system.out.println(\"10 + 5 = \" + obj.operate(10, 5, penjumlahan));\n",
    "      system.out.println(\"10 - 5 = \" + obj.operate(10, 5, penjumlahan2));\n",
    "  \n",
    "      //dengan parenthesis\n",
    "      msgService greetService1 = message -> system.out.println(\"Hello \" + message);\n",
    "  \n",
    "      //tanpa parenthesis\n",
    "      msgService greetService2 = (message) -> System.out.println(\"msg. \" + message);\n",
    "  \n",
    "      greetService1.sayMessage(\"Helloo\");\n",
    "      greetService2.sayMessage(\"Anonim..\");\n",
    "   }\n",
    " \n",
    "   private interface OperasiPerhitungan{\n",
    "      int operation(int a, int b);\n",
    "   }\n",
    " \n",
    "   private interface msgService{\n",
    "      void sayMessage(String message);\n",
    "   }\n",
    " \n",
    "   private int operate(int a, int b, OperasiPerhitungan op){\n",
    "      return op.operation(a, b);\n",
    "   }\n",
    "\n",
    "}\n",
    "\n",
    "``` "
   ]
  },
  {
   "cell_type": "code",
   "execution_count": null,
   "metadata": {},
   "outputs": [],
   "source": [
    "//Implementasi\n",
    "ContohLambda TestLambda = new ContohLambda()\n",
    "    \n",
    "TestLambda.main();\n",
    "\n",
    "public class Java8Tester {\n",
    "\n",
    "   public static void main(String args[]) {\n",
    "      Java8Tester tester = new Java8Tester();\n",
    "      //with type declaration\n",
    "      MathOperation addition = (int a, int b) -> a + b;\n",
    "      //with out type declaration\n",
    "      MathOperation subtraction = (a, b) -> a - b;\n",
    "      //with return statement along with curly braces\n",
    "      MathOperation multiplication = (int a, int b) -> { return a * b; };\n",
    "      //without return statement and without curly braces\n",
    "      MathOperation division = (int a, int b) -> a / b;\n",
    "      System.out.println(\"10 + 5 = \" + tester.operate(10, 5, addition));\n",
    "      System.out.println(\"10 - 5 = \" + tester.operate(10, 5, subtraction));\n",
    "      System.out.println(\"10 x 5 = \" + tester.operate(10, 5, multiplication));\n",
    "      System.out.println(\"10 / 5 = \" + tester.operate(10, 5, division));\n",
    "      //without parenthesis\n",
    "      GreetingService greetService1 = message ->\n",
    "      System.out.println(\"Hello \" + message);\n",
    "      //with parenthesis\n",
    "      GreetingService greetService2 = (message) ->\n",
    "      System.out.println(\"Hello \" + message);\n",
    "      greetService1.sayMessage(\"Mahesh\");\n",
    "      greetService2.sayMessage(\"Suresh\");\n",
    "   }\n",
    "   interface MathOperation {\n",
    "      int operation(int a, int b);\n",
    "   }\n",
    "\n",
    "   interface GreetingService {\n",
    "      void sayMessage(String message);\n",
    "   }\n",
    "\n",
    "   private int operate(int a, int b, MathOperation mathOperation) {\n",
    "      return mathOperation.operation(a, b);\n",
    "   }\n",
    "}"
   ]
  },
  {
   "cell_type": "markdown",
   "metadata": {},
   "source": [
    "### [Soal 1]\n",
    "\n",
    "Jelaskan mengenai ekspresi lambda dalam pemrograman java? Apa saja yang menjadi karakteristik dari ekspresi tersebut?\n",
    "*(nilai 30)*"
   ]
  },
  {
   "cell_type": "markdown",
   "metadata": {},
   "source": [
    "jawab : \n",
    "Lambda expression digunakan terutama untuk mendefinisikan implementasi dari interface fungsional, yaitu interface dengan satu method saja. Pada contoh di atas, kita telah menggunakan berbagai jenis lambda exspression untuk menentukan method operation interface MathOperation. Kemudian kita telah mendefinisikan implementasi sayMessage dari interface GreetingService.\n",
    "\n",
    "Lambda expression menghilangkan kebutuhan anonymous class dan memberikan kemudahan pemrograman fungsional namun memiliki powerfull yang dapat diandalkan ke java 8.\n",
    "\n",
    "ekspresi lambda juga bisa disebut penutupan, yang adalah untuk mempromosikan fitur baru yang paling penting dari Java 8 rilis.\n",
    "\n",
    "Lambda diizinkan untuk berfungsi sebagai parameter metode (fungsi lulus sebagai parameter ke metode).\n",
    "\n",
    "ekspresi Lambda dapat menggunakan kode menjadi lebih sederhana dan kompak.\n",
    "\n",
    "tatabahasa\n",
    "Lambda sintaks ekspresi adalah sebagai berikut:\n",
    "\n",
    "(parameters) -> expression\n",
    "atau\n",
    "(parameters) ->{ statements; }\n",
    "\n",
    "Berikut ini adalah karakteristik penting dari ekspresi lambda:\n",
    "\n",
    "Opsional deklarasi tipe: tidak perlu untuk menyatakan jenis parameter, compiler dapat disatukan nilai parameter identifikasi.\n",
    "Parameter opsional dalam kurung: parameter yang ditetapkan tanpa tanda kurung, tetapi sejumlah parameter perlu kurung didefinisikan.\n",
    "kawat gigi opsional: jika tubuh berisi pernyataan bahwa Anda tidak perlu kawat gigi.\n",
    "kata kunci pulang Opsional: Jika subjek hanya satu ekspresi yang mengembalikan nilai, compiler secara otomatis akan mengembalikan nilai, kawat gigi perlu menentukan ekspresi yang jelas yang mengembalikan nilai.\n",
    "\n"
   ]
  },
  {
   "cell_type": "markdown",
   "metadata": {},
   "source": [
    "### [Soal 2]\n",
    "\n",
    "Implementasikan ekspresi lambda dari kasus UTS bangun datar anda *(nilai 70)*"
   ]
  },
  {
   "cell_type": "code",
   "execution_count": null,
   "metadata": {},
   "outputs": [],
   "source": [
    "public class prisma{\n",
    "    double v;\n",
    "    double luasAlas;\n",
    "    double tinggi;\n",
    "    \n",
    "    void hitungVolume(){\n",
    "        System.out.println(\"Hitung Volume Prisma Segilima\");\n",
    "        v = luasAlas * tinggi;  \n",
    "    }\n",
    "}\n"
   ]
  },
  {
   "cell_type": "code",
   "execution_count": null,
   "metadata": {},
   "outputs": [],
   "source": [
    "prisma volumeprisma = new prisma();\n",
    "volumeprisma.luasAlas = 10;\n",
    "volumeprisma.tinggi = 25;\n",
    "volumeprisma.hitungVolume();\n",
    "System.out.println(\"Jadi,Volume Limas Segilima adalah \"+volumeprisma.v);\n",
    "\n"
   ]
  }
 ],
 "metadata": {
  "kernelspec": {
   "display_name": "Java",
   "language": "java",
   "name": "java"
  },
  "language_info": {
   "codemirror_mode": "text/x-java",
   "file_extension": ".java",
   "mimetype": "",
   "name": "Java",
   "nbconverter_exporter": "",
   "version": "1.8.0_221"
  }
 },
 "nbformat": 4,
 "nbformat_minor": 4
}
